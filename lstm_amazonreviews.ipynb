{
  "nbformat": 4,
  "nbformat_minor": 5,
  "metadata": {
    "kernelspec": {
      "display_name": "Python 3",
      "language": "python",
      "name": "python3"
    },
    "language_info": {
      "codemirror_mode": {
        "name": "ipython",
        "version": 3
      },
      "file_extension": ".py",
      "mimetype": "text/x-python",
      "name": "python",
      "nbconvert_exporter": "python",
      "pygments_lexer": "ipython3",
      "version": "3.6.9"
    },
    "colab": {
      "name": "lstm_amazonreviews.ipynb",
      "provenance": []
    }
  },
  "cells": [
    {
      "cell_type": "code",
      "metadata": {
        "id": "e8b64aa2"
      },
      "source": [
        "import json\n",
        "import pandas as pd"
      ],
      "id": "e8b64aa2",
      "execution_count": null,
      "outputs": []
    },
    {
      "cell_type": "code",
      "metadata": {
        "id": "e9c53440"
      },
      "source": [
        "data = []\n",
        "\n",
        "for line in open('Cell_Phones_and_Accessories_5.json','r') :\n",
        "    data.append(json.loads(line))"
      ],
      "id": "e9c53440",
      "execution_count": null,
      "outputs": []
    },
    {
      "cell_type": "code",
      "metadata": {
        "id": "d181c53d",
        "outputId": "0e412988-c2d3-4f7d-cc1e-869f38da0867"
      },
      "source": [
        "print(data[0])\n",
        "df = pd.DataFrame(data)\n",
        "print(len(data))"
      ],
      "id": "d181c53d",
      "execution_count": null,
      "outputs": [
        {
          "name": "stdout",
          "output_type": "stream",
          "text": [
            "{'reviewerID': 'A30TL5EWN6DFXT', 'asin': '120401325X', 'reviewerName': 'christina', 'helpful': [0, 0], 'reviewText': \"They look good and stick good! I just don't like the rounded shape because I was always bumping it and Siri kept popping up and it was irritating. I just won't buy a product like this again\", 'overall': 4.0, 'summary': 'Looks Good', 'unixReviewTime': 1400630400, 'reviewTime': '05 21, 2014'}\n",
            "194439\n"
          ]
        }
      ]
    },
    {
      "cell_type": "code",
      "metadata": {
        "id": "3c09a22b"
      },
      "source": [
        "df.head(10)\n",
        "df = df.drop(columns=['reviewerName'])\n",
        "df1 = df.rename(columns = {'overall': 'rating', 'asin': 'productID'}, inplace = False)"
      ],
      "id": "3c09a22b",
      "execution_count": null,
      "outputs": []
    },
    {
      "cell_type": "code",
      "metadata": {
        "id": "cede9e67"
      },
      "source": [
        "df1.dropna(axis = 0, how ='any',inplace=True) \n",
        "df1.drop_duplicates(subset=['rating','reviewText'],keep='first',inplace=True)\n"
      ],
      "id": "cede9e67",
      "execution_count": null,
      "outputs": []
    },
    {
      "cell_type": "code",
      "metadata": {
        "id": "0921ca6d",
        "outputId": "364ebafc-a778-49b9-ad58-8695412b677b"
      },
      "source": [
        "print(len(df1))\n",
        "df1.to_csv('CellPhonesRating.csv')"
      ],
      "id": "0921ca6d",
      "execution_count": null,
      "outputs": [
        {
          "name": "stdout",
          "output_type": "stream",
          "text": [
            "194226\n"
          ]
        }
      ]
    },
    {
      "cell_type": "code",
      "metadata": {
        "id": "ef016ee3"
      },
      "source": [
        "import matplotlib as mpl\n",
        "import matplotlib.pyplot as plt\n",
        "import os\n",
        "import re\n",
        "import shutil\n",
        "import string\n",
        "import tensorflow as tf\n",
        "from tensorflow.keras import regularizers\n",
        "\n",
        "from tensorflow.keras import layers\n",
        "from tensorflow.keras import losses\n",
        "\n",
        "from collections import Counter\n",
        "\n",
        "\n",
        "import pandas as pd\n",
        "import numpy as np\n",
        "\n",
        "import sklearn\n",
        "\n",
        "\n",
        "from sklearn.model_selection import train_test_split\n",
        "from sklearn.metrics import classification_report\n",
        "\n",
        "from tensorflow.keras import preprocessing\n",
        "from tensorflow.keras.preprocessing.text import Tokenizer\n",
        "from tensorflow.keras.preprocessing.sequence import pad_sequences\n",
        "\n",
        "\n",
        "import seaborn as sns\n",
        "\n",
        "import pydot"
      ],
      "id": "ef016ee3",
      "execution_count": null,
      "outputs": []
    },
    {
      "cell_type": "code",
      "metadata": {
        "id": "d4f4d16a",
        "outputId": "ad3f43fb-5fe2-49f3-bedd-4e72fc526aca"
      },
      "source": [
        "print(tf.__version__)"
      ],
      "id": "d4f4d16a",
      "execution_count": null,
      "outputs": [
        {
          "name": "stdout",
          "output_type": "stream",
          "text": [
            "2.6.2\n"
          ]
        }
      ]
    },
    {
      "cell_type": "code",
      "metadata": {
        "id": "9d61a619",
        "outputId": "7828208f-73e1-4b1b-be9a-3db2811469d0"
      },
      "source": [
        "if tf.test.gpu_device_name(): \n",
        "    print('Default GPU Device:{}'.format(tf.test.gpu_device_name()))\n",
        "\n",
        "else:\n",
        "    print(\"Please install GPU version of TF\")\n"
      ],
      "id": "9d61a619",
      "execution_count": null,
      "outputs": [
        {
          "name": "stdout",
          "output_type": "stream",
          "text": [
            "Please install GPU version of TF\n"
          ]
        }
      ]
    },
    {
      "cell_type": "code",
      "metadata": {
        "id": "c0f66c47"
      },
      "source": [
        "def clean_text(text ): \n",
        "    delete_dict = {sp_character: '' for sp_character in string.punctuation} \n",
        "    delete_dict[' '] = ' ' \n",
        "    table = str.maketrans(delete_dict)\n",
        "    text1 = text.translate(table)\n",
        "    #print('cleaned:'+text1)\n",
        "    textArr= text1.split()\n",
        "    text2 = ' '.join([w for w in textArr if ( not w.isdigit() and  ( not w.isdigit() and len(w)>2))]) \n",
        "    \n",
        "    return text2.lower()\n"
      ],
      "id": "c0f66c47",
      "execution_count": null,
      "outputs": []
    },
    {
      "cell_type": "code",
      "metadata": {
        "id": "2f642142",
        "outputId": "48e5eb5a-1db3-4030-aefa-e552ee5acfcd"
      },
      "source": [
        "review_data= pd.read_csv(\"CellPhonesRating.csv\")\n",
        "print(review_data.head(10))\n",
        "print(len(review_data))\n",
        "print('Unique Products')\n",
        "print(len(review_data.groupby('productID')))\n",
        "print('Unique Users')\n",
        "print(len(review_data.groupby('reviewerID')))"
      ],
      "id": "2f642142",
      "execution_count": null,
      "outputs": [
        {
          "name": "stdout",
          "output_type": "stream",
          "text": [
            "   Unnamed: 0      reviewerID   productID helpful  \\\n",
            "0           0  A30TL5EWN6DFXT  120401325X  [0, 0]   \n",
            "1           1   ASY55RVNIL0UD  120401325X  [0, 0]   \n",
            "2           2  A2TMXE2AFO7ONB  120401325X  [0, 0]   \n",
            "3           3   AWJ0WZQYMYFQ4  120401325X  [4, 4]   \n",
            "4           4   ATX7CZYFXI1KW  120401325X  [2, 3]   \n",
            "5           5   APX47D16JOP7H  120401325X  [1, 2]   \n",
            "6           6  A1JVVYYO7G56DS  120401325X  [0, 0]   \n",
            "7           7   A6FGO4TBZ3QFZ  3998899561  [1, 2]   \n",
            "8           8  A2JWEDW5FSVB0F  3998899561  [2, 3]   \n",
            "9           9   A8AJS1DW7L3JJ  3998899561  [1, 1]   \n",
            "\n",
            "                                          reviewText  rating  \\\n",
            "0  They look good and stick good! I just don't li...     4.0   \n",
            "1  These stickers work like the review says they ...     5.0   \n",
            "2  These are awesome and make my phone look so st...     5.0   \n",
            "3  Item arrived in great time and was in perfect ...     4.0   \n",
            "4  awesome! stays on, and looks great. can be use...     5.0   \n",
            "5  These make using the home button easy. My daug...     3.0   \n",
            "6  Came just as described.. It doesn't come unstu...     5.0   \n",
            "7  it worked for the first week then it only char...     1.0   \n",
            "8  Good case, solid build. Protects phone all aro...     5.0   \n",
            "9  This is a fantastic case. Very stylish and pro...     5.0   \n",
            "\n",
            "                                     summary  unixReviewTime   reviewTime  \n",
            "0                                 Looks Good      1400630400  05 21, 2014  \n",
            "1                      Really great product.      1389657600  01 14, 2014  \n",
            "2                             LOVE LOVE LOVE      1403740800  06 26, 2014  \n",
            "3                                      Cute!      1382313600  10 21, 2013  \n",
            "4  leopard home button sticker for iphone 4s      1359849600   02 3, 2013  \n",
            "5                                       Cute      1381536000  10 12, 2013  \n",
            "6                          best thing ever..      1377129600  08 22, 2013  \n",
            "7                            not a good Idea      1384992000  11 21, 2013  \n",
            "8                                 Solid Case      1380067200  09 25, 2013  \n",
            "9                               Perfect Case      1396483200   04 3, 2014  \n",
            "194226\n",
            "Unique Products\n",
            "10429\n",
            "Unique Users\n",
            "27879\n"
          ]
        }
      ]
    },
    {
      "cell_type": "code",
      "metadata": {
        "id": "f7f91d01",
        "outputId": "92b8b715-a63b-48ab-c883-eea4b216608a"
      },
      "source": [
        "review_data.dropna(axis = 0, how ='any',inplace=True) \n",
        "\n",
        "\n",
        "\n",
        "\n",
        "\n",
        "#review_data['reviewText'] = review_data['reviewText'].apply(remove_url)\n",
        "review_data['reviewText'] = review_data['reviewText'].apply(clean_text)\n",
        "review_data['Num_words_text'] = review_data['reviewText'].apply(lambda x:len(str(x).split())) \n",
        "\n",
        "print('-------Dataset --------')\n",
        "print(review_data['rating'].value_counts())\n",
        "print(len(review_data))\n",
        "print('-------------------------')\n",
        "max_review_data_sentence_length  = review_data['Num_words_text'].max()\n",
        "\n",
        "print('Train Max Sentence Length :'+str(max_review_data_sentence_length))"
      ],
      "id": "f7f91d01",
      "execution_count": null,
      "outputs": [
        {
          "name": "stdout",
          "output_type": "stream",
          "text": [
            "-------Dataset --------\n",
            "5.0    108496\n",
            "4.0     39963\n",
            "3.0     21434\n",
            "1.0     13268\n",
            "2.0     11059\n",
            "Name: rating, dtype: int64\n",
            "194220\n",
            "-------------------------\n",
            "Train Max Sentence Length :4236\n"
          ]
        }
      ]
    },
    {
      "cell_type": "code",
      "metadata": {
        "id": "e150c17e",
        "outputId": "5cf1359d-4c8d-4862-b199-0efd3c817eb4"
      },
      "source": [
        "\n",
        "review_data['Num_words_text'].describe()"
      ],
      "id": "e150c17e",
      "execution_count": null,
      "outputs": [
        {
          "data": {
            "text/plain": [
              "count    194220.000000\n",
              "mean         70.170683\n",
              "std         104.081430\n",
              "min           0.000000\n",
              "25%          21.000000\n",
              "50%          36.000000\n",
              "75%          77.000000\n",
              "max        4236.000000\n",
              "Name: Num_words_text, dtype: float64"
            ]
          },
          "execution_count": 15,
          "metadata": {},
          "output_type": "execute_result"
        }
      ]
    },
    {
      "cell_type": "code",
      "metadata": {
        "id": "f35a07a7",
        "outputId": "fc67aba3-10e5-45b7-d586-4c4b02f5a183"
      },
      "source": [
        "sns.set(style=\"whitegrid\")\n",
        "sns.boxplot(x=review_data['Num_words_text'])"
      ],
      "id": "f35a07a7",
      "execution_count": null,
      "outputs": [
        {
          "data": {
            "text/plain": [
              "<AxesSubplot:xlabel='Num_words_text'>"
            ]
          },
          "execution_count": 16,
          "metadata": {},
          "output_type": "execute_result"
        },
        {
          "data": {
            "image/png": "[encoded data removed]",
            "text/plain": [
              "<Figure size 432x288 with 1 Axes>"
            ]
          },
          "metadata": {},
          "output_type": "display_data"
        }
      ]
    },
    {
      "cell_type": "code",
      "metadata": {
        "id": "1c706325",
        "outputId": "3e4c6c58-8017-412c-f9ff-f2889880d5f1"
      },
      "source": [
        "mask = (review_data['Num_words_text'] < 100) & (review_data['Num_words_text'] >=20)\n",
        "df_short_reviews = review_data[mask]\n",
        "print('No of Short reviews')\n",
        "print(len(df_short_reviews))\n",
        "\n",
        "mask = review_data['Num_words_text'] >= 100\n",
        "df_long_reviews = review_data[mask]\n",
        "print('No of Long reviews')\n",
        "print(len(df_long_reviews))\n"
      ],
      "id": "1c706325",
      "execution_count": null,
      "outputs": [
        {
          "name": "stdout",
          "output_type": "stream",
          "text": [
            "No of Short reviews\n",
            "118480\n",
            "No of Long reviews\n",
            "36358\n"
          ]
        }
      ]
    },
    {
      "cell_type": "code",
      "metadata": {
        "id": "bf91b244",
        "outputId": "9a068e35-4467-45e0-e94c-7bc4f868b849"
      },
      "source": [
        "\n",
        "print(df_short_reviews['Num_words_text'].max())\n"
      ],
      "id": "bf91b244",
      "execution_count": null,
      "outputs": [
        {
          "name": "stdout",
          "output_type": "stream",
          "text": [
            "99\n"
          ]
        }
      ]
    },
    {
      "cell_type": "code",
      "metadata": {
        "id": "ca4e2483"
      },
      "source": [
        "def get_sentiment(rating):\n",
        "    if rating == 5 or rating == 4 or rating ==3:\n",
        "        return 1\n",
        "    else:\n",
        "        return 0\n",
        "    "
      ],
      "id": "ca4e2483",
      "execution_count": null,
      "outputs": []
    },
    {
      "cell_type": "code",
      "metadata": {
        "id": "50a49786",
        "outputId": "b9f19b60-167c-4651-8f2a-bc8bfaefe56c"
      },
      "source": [
        "#df_short_reviews['rating'].value_counts()\n",
        "filtered_data = df_short_reviews.groupby('productID').filter(lambda x: len(x) >= 20)\n",
        "print(len(filtered_data))\n",
        "print(filtered_data ['rating'].value_counts())\n",
        "filtered_data ['sentiment'] = filtered_data ['rating'].apply(get_sentiment)\n",
        "#train_data = df_short_reviews.sample(n=200000, random_state =0)\n",
        "train_data = filtered_data[['reviewText','sentiment']]\n",
        "print('Train data')\n",
        "print(train_data['sentiment'].value_counts())\n",
        "\n",
        "#Create Test Data\n",
        "mask = review_data['Num_words_text'] < 100 \n",
        "df_short_reviews = review_data[mask]\n",
        "filtered_data = df_short_reviews.groupby('productID').filter(lambda x: len(x) >= 10)\n",
        "print(len(filtered_data))\n",
        "print(filtered_data ['rating'].value_counts())\n",
        "filtered_data ['sentiment'] = filtered_data ['rating'].apply(get_sentiment)\n",
        "#train_data = df_short_reviews.sample(n=200000, random_state =0)\n",
        "test_data = filtered_data[['reviewText','sentiment']]\n",
        "print('Test data')\n",
        "print(test_data['sentiment'].value_counts())\n"
      ],
      "id": "50a49786",
      "execution_count": null,
      "outputs": [
        {
          "name": "stdout",
          "output_type": "stream",
          "text": [
            "60326\n",
            "5.0    34658\n",
            "4.0    11857\n",
            "3.0     6442\n",
            "1.0     4080\n",
            "2.0     3289\n",
            "Name: rating, dtype: int64\n",
            "Train data\n",
            "1    52957\n",
            "0     7369\n",
            "Name: sentiment, dtype: int64\n",
            "122502\n",
            "5.0    71047\n",
            "4.0    23187\n",
            "3.0    13118\n",
            "1.0     8574\n",
            "2.0     6576\n",
            "Name: rating, dtype: int64\n",
            "Test data\n",
            "1    107352\n",
            "0     15150\n",
            "Name: sentiment, dtype: int64\n"
          ]
        }
      ]
    },
    {
      "cell_type": "code",
      "metadata": {
        "id": "6381a7c5",
        "outputId": "fe863c50-c663-49af-f117-2c7f4d72f89e"
      },
      "source": [
        "train_data['sentiment'].value_counts()"
      ],
      "id": "6381a7c5",
      "execution_count": null,
      "outputs": [
        {
          "data": {
            "text/plain": [
              "1    52957\n",
              "0     7369\n",
              "Name: sentiment, dtype: int64"
            ]
          },
          "execution_count": 23,
          "metadata": {},
          "output_type": "execute_result"
        }
      ]
    },
    {
      "cell_type": "code",
      "metadata": {
        "id": "13944160",
        "outputId": "63d8c6a9-af90-4164-b878-a0e5efe35338"
      },
      "source": [
        "X_train, X_valid, y_train, y_valid = train_test_split(train_data['reviewText'].tolist(),\\\n",
        "                                                      train_data['sentiment'].tolist(),\\\n",
        "                                                      test_size=0.5,\\\n",
        "                                                      stratify = train_data['sentiment'].tolist(),\\\n",
        "                                                      random_state=0)\n",
        "\n",
        "\n",
        "print('Train data len:'+str(len(X_train)))\n",
        "print('Class distribution'+str(Counter(y_train)))\n",
        "print('Valid data len:'+str(len(X_valid)))\n",
        "print('Class distribution'+ str(Counter(y_valid)))"
      ],
      "id": "13944160",
      "execution_count": null,
      "outputs": [
        {
          "name": "stdout",
          "output_type": "stream",
          "text": [
            "Train data len:30163\n",
            "Class distributionCounter({1: 26479, 0: 3684})\n",
            "Valid data len:30163\n",
            "Class distributionCounter({1: 26478, 0: 3685})\n"
          ]
        }
      ]
    },
    {
      "cell_type": "code",
      "metadata": {
        "id": "5c317970",
        "outputId": "c2727232-1147-46a9-a391-d34823618ccd"
      },
      "source": [
        "num_words = 50000\n",
        "\n",
        "tokenizer = Tokenizer(num_words=num_words,oov_token=\"unk\")\n",
        "tokenizer.fit_on_texts(X_train)\n",
        "\n",
        "\n",
        "print(str(tokenizer.texts_to_sequences(['xyz how are you'])))\n"
      ],
      "id": "5c317970",
      "execution_count": null,
      "outputs": [
        {
          "name": "stdout",
          "output_type": "stream",
          "text": [
            "[[1, 121, 20, 13]]\n"
          ]
        }
      ]
    },
    {
      "cell_type": "code",
      "metadata": {
        "id": "c97541d6",
        "outputId": "c62c0e93-8ba0-4807-b6c8-7f4606704873"
      },
      "source": [
        "x_train = np.array( tokenizer.texts_to_sequences(X_train) )\n",
        "x_valid = np.array( tokenizer.texts_to_sequences(X_valid) )\n",
        "x_test  = np.array( tokenizer.texts_to_sequences(test_data['reviewText'].tolist()) )\n",
        "\n",
        "\n",
        "\n",
        "x_train = pad_sequences(x_train, padding='post', maxlen=100)\n",
        "x_valid = pad_sequences(x_valid, padding='post', maxlen=100)\n",
        "x_test = pad_sequences(x_test, padding='post', maxlen=100)\n",
        "\n",
        "\n",
        "\n",
        "train_labels = np.asarray(y_train )\n",
        "valid_labels = np.asarray( y_valid)\n",
        "\n",
        "test_labels = np.asarray(test_data['sentiment'].tolist())\n",
        "\n",
        "print('Train data len:'+str(len(x_train)))\n",
        "print('Class distribution'+str(Counter(train_labels)))\n",
        "\n",
        "print('Validation data len:'+str(len(x_valid)))\n",
        "print('Class distribution'+str(Counter(valid_labels)))\n",
        "\n",
        "print('Test data len:'+str(len(x_test)))\n",
        "print('Class distribution'+str(Counter(test_labels)))\n",
        "\n",
        "\n",
        "train_ds = tf.data.Dataset.from_tensor_slices((x_train,train_labels))\n",
        "valid_ds = tf.data.Dataset.from_tensor_slices((x_valid,valid_labels))\n",
        "test_ds = tf.data.Dataset.from_tensor_slices((x_test,test_labels))\n"
      ],
      "id": "c97541d6",
      "execution_count": null,
      "outputs": [
        {
          "name": "stderr",
          "output_type": "stream",
          "text": [
            "/home/thriveni/.local/lib/python3.6/site-packages/ipykernel_launcher.py:1: VisibleDeprecationWarning: Creating an ndarray from ragged nested sequences (which is a list-or-tuple of lists-or-tuples-or ndarrays with different lengths or shapes) is deprecated. If you meant to do this, you must specify 'dtype=object' when creating the ndarray\n",
            "  \"\"\"Entry point for launching an IPython kernel.\n",
            "/home/thriveni/.local/lib/python3.6/site-packages/ipykernel_launcher.py:2: VisibleDeprecationWarning: Creating an ndarray from ragged nested sequences (which is a list-or-tuple of lists-or-tuples-or ndarrays with different lengths or shapes) is deprecated. If you meant to do this, you must specify 'dtype=object' when creating the ndarray\n",
            "  \n",
            "/home/thriveni/.local/lib/python3.6/site-packages/ipykernel_launcher.py:3: VisibleDeprecationWarning: Creating an ndarray from ragged nested sequences (which is a list-or-tuple of lists-or-tuples-or ndarrays with different lengths or shapes) is deprecated. If you meant to do this, you must specify 'dtype=object' when creating the ndarray\n",
            "  This is separate from the ipykernel package so we can avoid doing imports until\n"
          ]
        },
        {
          "name": "stdout",
          "output_type": "stream",
          "text": [
            "Train data len:30163\n",
            "Class distributionCounter({1: 26479, 0: 3684})\n",
            "Validation data len:30163\n",
            "Class distributionCounter({1: 26478, 0: 3685})\n",
            "Test data len:122502\n",
            "Class distributionCounter({1: 107352, 0: 15150})\n"
          ]
        }
      ]
    },
    {
      "cell_type": "code",
      "metadata": {
        "id": "acfcd585",
        "outputId": "00d38195-ebfc-496d-d78b-e490da15e506"
      },
      "source": [
        "count =0\n",
        "print('======Train dataset ====')\n",
        "for value,label in train_ds:\n",
        "    count += 1\n",
        "    print(value,label)\n",
        "    if count==1:\n",
        "        break\n",
        "count =0\n",
        "print('======Validation dataset ====')\n",
        "for value,label in valid_ds:\n",
        "    count += 1\n",
        "    print(value,label)\n",
        "    if count==1:\n",
        "        break\n",
        "count =0\n",
        "print('======Test dataset ====')\n",
        "for value,label in test_ds:\n",
        "    count += 1\n",
        "    print(value,label)\n",
        "    if count==1:\n",
        "        break  \n"
      ],
      "id": "acfcd585",
      "execution_count": null,
      "outputs": [
        {
          "name": "stdout",
          "output_type": "stream",
          "text": [
            "======Train dataset ====\n",
            "tf.Tensor(\n",
            "[   66    34   174    10     4    14  1245   614     2    72    14   644\n",
            "   296   135   170    37   160    30    22    31  9058   151   346   488\n",
            "    76    13    95     3   877     2   903 12574   966   296    14   687\n",
            "    31     2  7483     3   759   339     2   135   615   749    60     8\n",
            "   803   251    60     3  1358    53  9059   614  1424     4     0     0\n",
            "     0     0     0     0     0     0     0     0     0     0     0     0\n",
            "     0     0     0     0     0     0     0     0     0     0     0     0\n",
            "     0     0     0     0     0     0     0     0     0     0     0     0\n",
            "     0     0     0     0], shape=(100,), dtype=int32) tf.Tensor(0, shape=(), dtype=int64)\n",
            "======Validation dataset ====\n",
            "tf.Tensor(\n",
            "[ 4685    38   317  1868     1    46    91     1  1272   706     3 14124\n",
            "     1  1261    13  3007     3   942     9  1272     5   121    65    46\n",
            "    13    11     1   164     2     6  2554     1   159   893    59  2988\n",
            "   370     1   114   709    71   208    13  1548    10    25   179     2\n",
            "     1    73    13   459     3    20   450     6   927     0     0     0\n",
            "     0     0     0     0     0     0     0     0     0     0     0     0\n",
            "     0     0     0     0     0     0     0     0     0     0     0     0\n",
            "     0     0     0     0     0     0     0     0     0     0     0     0\n",
            "     0     0     0     0], shape=(100,), dtype=int32) tf.Tensor(1, shape=(), dtype=int64)\n",
            "======Test dataset ====\n",
            "tf.Tensor(\n",
            "[1833    4  633  558   43   24   25    3   24 2823    2  395 1450   36\n",
            "  111  275    5    5  185   93  173  250  524    0    0    0    0    0\n",
            "    0    0    0    0    0    0    0    0    0    0    0    0    0    0\n",
            "    0    0    0    0    0    0    0    0    0    0    0    0    0    0\n",
            "    0    0    0    0    0    0    0    0    0    0    0    0    0    0\n",
            "    0    0    0    0    0    0    0    0    0    0    0    0    0    0\n",
            "    0    0    0    0    0    0    0    0    0    0    0    0    0    0\n",
            "    0    0], shape=(100,), dtype=int32) tf.Tensor(1, shape=(), dtype=int64)\n"
          ]
        }
      ]
    },
    {
      "cell_type": "code",
      "metadata": {
        "id": "05d9c0bb",
        "outputId": "c1e553cb-27df-4cca-bdfb-31e1193783fe"
      },
      "source": [
        "max_features =50000\n",
        "embedding_dim =16\n",
        "sequence_length = 100\n",
        "\n",
        "model = tf.keras.Sequential()\n",
        "model.add(tf.keras.layers.Embedding(max_features +1, embedding_dim, input_length=sequence_length,\\\n",
        "                                    embeddings_regularizer = regularizers.l2(0.005))) \n",
        "model.add(tf.keras.layers.Dropout(0.4))\n",
        "\n",
        "model.add(tf.keras.layers.LSTM(embedding_dim,dropout=0.2, recurrent_dropout=0.2,return_sequences=True,\\\n",
        "                                                             kernel_regularizer=regularizers.l2(0.005),\\\n",
        "                                                             bias_regularizer=regularizers.l2(0.005)))\n",
        "\n",
        "model.add(tf.keras.layers.Flatten())\n",
        "\n",
        "model.add(tf.keras.layers.Dense(512, activation='relu',\\\n",
        "                                kernel_regularizer=regularizers.l2(0.001),\\\n",
        "                                bias_regularizer=regularizers.l2(0.001),))\n",
        "model.add(tf.keras.layers.Dropout(0.4))\n",
        "\n",
        "model.add(tf.keras.layers.Dense(8, activation='relu',\\\n",
        "                                kernel_regularizer=regularizers.l2(0.001),\\\n",
        "                                bias_regularizer=regularizers.l2(0.001),))\n",
        "model.add(tf.keras.layers.Dropout(0.4))\n",
        "\n",
        "\n",
        "model.add(tf.keras.layers.Dense(1,activation='sigmoid'))\n",
        "                               \n",
        "\n",
        "\n",
        "\n",
        "model.summary()\n",
        "model.compile(loss=tf.keras.losses.BinaryCrossentropy(),optimizer=tf.keras.optimizers.Adam(1e-3),metrics=[tf.keras.metrics.BinaryAccuracy()])\n"
      ],
      "id": "05d9c0bb",
      "execution_count": null,
      "outputs": [
        {
          "name": "stdout",
          "output_type": "stream",
          "text": [
            "Model: \"sequential\"\n",
            "_________________________________________________________________\n",
            "Layer (type)                 Output Shape              Param #   \n",
            "=================================================================\n",
            "embedding (Embedding)        (None, 100, 16)           800016    \n",
            "_________________________________________________________________\n",
            "dropout (Dropout)            (None, 100, 16)           0         \n",
            "_________________________________________________________________\n",
            "lstm (LSTM)                  (None, 100, 16)           2112      \n",
            "_________________________________________________________________\n",
            "flatten (Flatten)            (None, 1600)              0         \n",
            "_________________________________________________________________\n",
            "dense (Dense)                (None, 512)               819712    \n",
            "_________________________________________________________________\n",
            "dropout_1 (Dropout)          (None, 512)               0         \n",
            "_________________________________________________________________\n",
            "dense_1 (Dense)              (None, 8)                 4104      \n",
            "_________________________________________________________________\n",
            "dropout_2 (Dropout)          (None, 8)                 0         \n",
            "_________________________________________________________________\n",
            "dense_2 (Dense)              (None, 1)                 9         \n",
            "=================================================================\n",
            "Total params: 1,625,953\n",
            "Trainable params: 1,625,953\n",
            "Non-trainable params: 0\n",
            "_________________________________________________________________\n"
          ]
        }
      ]
    },
    {
      "cell_type": "code",
      "metadata": {
        "id": "0d2e0500",
        "outputId": "36b16a30-2bf0-4ed5-a429-0337090bc0d6"
      },
      "source": [
        "tf.keras.utils.plot_model(model, \"multi_input_and_output_model.png\", show_shapes=True)"
      ],
      "id": "0d2e0500",
      "execution_count": null,
      "outputs": [
        {
          "data": {
            "image/png": "[encoded data removed]",
            "text/plain": [
              "<IPython.core.display.Image object>"
            ]
          },
          "execution_count": 29,
          "metadata": {},
          "output_type": "execute_result"
        }
      ]
    },
    {
      "cell_type": "code",
      "metadata": {
        "id": "ee2edbfb",
        "outputId": "11733a54-d71b-4f4b-8d1b-78752876310a"
      },
      "source": [
        "epochs = 10\n",
        "# Fit the model using the train and test datasets.\n",
        "#history = model.fit(x_train, train_labels,validation_data= (x_test,test_labels),epochs=epochs )\n",
        "history = model.fit(train_ds.shuffle(5000).batch(1024),\n",
        "                    epochs= epochs ,\n",
        "                    validation_data=valid_ds.batch(1024),\n",
        "                    verbose=1)"
      ],
      "id": "ee2edbfb",
      "execution_count": null,
      "outputs": [
        {
          "name": "stdout",
          "output_type": "stream",
          "text": [
            "Epoch 1/10\n",
            "30/30 [==============================] - 15s 305ms/step - loss: 2.5817 - binary_accuracy: 0.8671 - val_loss: 1.0398 - val_binary_accuracy: 0.8778\n",
            "Epoch 2/10\n",
            "30/30 [==============================] - 11s 358ms/step - loss: 0.7508 - binary_accuracy: 0.8779 - val_loss: 0.5564 - val_binary_accuracy: 0.8778\n",
            "Epoch 3/10\n",
            "30/30 [==============================] - 10s 328ms/step - loss: 0.5434 - binary_accuracy: 0.8779 - val_loss: 0.4741 - val_binary_accuracy: 0.8778\n",
            "Epoch 4/10\n",
            "30/30 [==============================] - 9s 314ms/step - loss: 0.4605 - binary_accuracy: 0.8779 - val_loss: 0.4080 - val_binary_accuracy: 0.8778\n",
            "Epoch 5/10\n",
            "30/30 [==============================] - 10s 347ms/step - loss: 0.4130 - binary_accuracy: 0.8779 - val_loss: 0.3876 - val_binary_accuracy: 0.8778\n",
            "Epoch 6/10\n",
            "30/30 [==============================] - 11s 379ms/step - loss: 0.3897 - binary_accuracy: 0.8779 - val_loss: 0.3717 - val_binary_accuracy: 0.8778\n",
            "Epoch 7/10\n",
            "30/30 [==============================] - 11s 376ms/step - loss: 0.3738 - binary_accuracy: 0.8779 - val_loss: 0.3598 - val_binary_accuracy: 0.8778\n",
            "Epoch 8/10\n",
            "30/30 [==============================] - 11s 377ms/step - loss: 0.3613 - binary_accuracy: 0.8779 - val_loss: 0.3550 - val_binary_accuracy: 0.8778\n",
            "Epoch 9/10\n",
            "30/30 [==============================] - 12s 396ms/step - loss: 0.3566 - binary_accuracy: 0.8779 - val_loss: 0.3512 - val_binary_accuracy: 0.8778\n",
            "Epoch 10/10\n",
            "30/30 [==============================] - 11s 371ms/step - loss: 0.3470 - binary_accuracy: 0.8779 - val_loss: 0.3474 - val_binary_accuracy: 0.8778\n"
          ]
        }
      ]
    },
    {
      "cell_type": "code",
      "metadata": {
        "id": "13c14910",
        "outputId": "02b1ff5f-4cbe-497b-9a2d-46b72e29c436"
      },
      "source": [
        "history.history"
      ],
      "id": "13c14910",
      "execution_count": null,
      "outputs": [
        {
          "data": {
            "text/plain": [
              "{'loss': [2.581679105758667,\n",
              "  0.7507932186126709,\n",
              "  0.5434052348136902,\n",
              "  0.46046507358551025,\n",
              "  0.4129764437675476,\n",
              "  0.38974589109420776,\n",
              "  0.37380459904670715,\n",
              "  0.36132851243019104,\n",
              "  0.3566320836544037,\n",
              "  0.34697043895721436],\n",
              " 'binary_accuracy': [0.8670556545257568,\n",
              "  0.8778635859489441,\n",
              "  0.8778635859489441,\n",
              "  0.8778635859489441,\n",
              "  0.8778635859489441,\n",
              "  0.8778635859489441,\n",
              "  0.8778635859489441,\n",
              "  0.8778635859489441,\n",
              "  0.8778635859489441,\n",
              "  0.8778635859489441],\n",
              " 'val_loss': [1.0398060083389282,\n",
              "  0.5564397573471069,\n",
              "  0.4741455912590027,\n",
              "  0.4079613983631134,\n",
              "  0.38763871788978577,\n",
              "  0.37174537777900696,\n",
              "  0.35977691411972046,\n",
              "  0.3550492525100708,\n",
              "  0.3512172996997833,\n",
              "  0.34740206599235535],\n",
              " 'val_binary_accuracy': [0.877830445766449,\n",
              "  0.877830445766449,\n",
              "  0.877830445766449,\n",
              "  0.877830445766449,\n",
              "  0.877830445766449,\n",
              "  0.877830445766449,\n",
              "  0.877830445766449,\n",
              "  0.877830445766449,\n",
              "  0.877830445766449,\n",
              "  0.877830445766449]}"
            ]
          },
          "execution_count": 31,
          "metadata": {},
          "output_type": "execute_result"
        }
      ]
    },
    {
      "cell_type": "code",
      "metadata": {
        "id": "e3c9f7d2",
        "outputId": "5e8b9dd8-7163-4fec-c341-2e9eed15b0ac"
      },
      "source": [
        "plt.plot(history.history['loss'], label=' training data')\n",
        "plt.plot(history.history['val_loss'], label='validation data')\n",
        "plt.title('Loss for Text Classification')\n",
        "plt.ylabel('Loss value')\n",
        "plt.xlabel('No. epoch')\n",
        "plt.legend(loc=\"upper left\")\n",
        "plt.show()"
      ],
      "id": "e3c9f7d2",
      "execution_count": null,
      "outputs": [
        {
          "data": {
            "image/png": "[encoded data removed]",
            "text/plain": [
              "<Figure size 432x288 with 1 Axes>"
            ]
          },
          "metadata": {},
          "output_type": "display_data"
        }
      ]
    },
    {
      "cell_type": "code",
      "metadata": {
        "id": "2d84cdd9",
        "outputId": "34a06fe0-0b97-4d04-df05-b47ee554470c"
      },
      "source": [
        "plt.plot(history.history['binary_accuracy'], label=' training data')\n",
        "plt.plot(history.history['val_binary_accuracy'], label='validation data')\n",
        "plt.title('Accuracy for Text Classification')\n",
        "plt.ylabel('Accuracy value')\n",
        "plt.xlabel('No. epoch')\n",
        "plt.legend(loc=\"upper left\")\n",
        "plt.show()\n"
      ],
      "id": "2d84cdd9",
      "execution_count": null,
      "outputs": [
        {
          "data": {
            "image/png": "[encoded data removed]",
            "text/plain": [
              "<Figure size 432x288 with 1 Axes>"
            ]
          },
          "metadata": {},
          "output_type": "display_data"
        }
      ]
    },
    {
      "cell_type": "code",
      "metadata": {
        "id": "745ab886"
      },
      "source": [
        "model.save('tf_lstmmodel.h5') \n",
        "json_string = tokenizer.to_json()"
      ],
      "id": "745ab886",
      "execution_count": null,
      "outputs": []
    },
    {
      "cell_type": "code",
      "metadata": {
        "id": "241c65d6"
      },
      "source": [
        "import json\n",
        "with open('tokenizer.json', 'w') as outfile:\n",
        "    json.dump(json_string, outfile)"
      ],
      "id": "241c65d6",
      "execution_count": null,
      "outputs": []
    },
    {
      "cell_type": "code",
      "metadata": {
        "id": "082780e0"
      },
      "source": [
        "valid_predict= model.predict(x_valid)"
      ],
      "id": "082780e0",
      "execution_count": null,
      "outputs": []
    },
    {
      "cell_type": "code",
      "metadata": {
        "id": "82d8e7c5",
        "outputId": "ddfc541f-bdbc-4a52-96bc-b7fe29986d56"
      },
      "source": [
        "print(valid_predict[:10])"
      ],
      "id": "82d8e7c5",
      "execution_count": null,
      "outputs": [
        {
          "name": "stdout",
          "output_type": "stream",
          "text": [
            "[[0.9999331 ]\n",
            " [0.99999964]\n",
            " [0.99990165]\n",
            " [0.9810755 ]\n",
            " [0.97717035]\n",
            " [0.987761  ]\n",
            " [0.5108061 ]\n",
            " [0.9999985 ]\n",
            " [0.9965602 ]\n",
            " [0.5494236 ]]\n"
          ]
        }
      ]
    },
    {
      "cell_type": "code",
      "metadata": {
        "id": "7d5fd850"
      },
      "source": [
        "def plot_roc(name, labels, predictions, **kwargs):\n",
        "    fp, tp, thresholds = sklearn.metrics.roc_curve(labels, predictions)\n",
        "    plt.plot(fp, tp, label=name, linewidth=2, **kwargs)\n",
        "    plt.xlabel('False positives Rate')\n",
        "    plt.ylabel('True positives Rate')\n",
        "    plt.xlim([-0.03, 1.0])\n",
        "    plt.ylim([0.0, 1.03])\n",
        "    plt.grid(True)\n",
        "    thresholdsLength = len(thresholds)\n",
        "    thresholds_every = 1000\n",
        "    colorMap = plt.get_cmap('jet', thresholdsLength)\n",
        "    for i in range(0, thresholdsLength, thresholds_every):\n",
        "        threshold_value_with_max_four_decimals = str(thresholds[i])[:5]\n",
        "        plt.text(fp[i] - 0.03, tp[i] + 0.001, threshold_value_with_max_four_decimals, fontdict={'size': 15}, color=colorMap(i/thresholdsLength));\n",
        "\n",
        "    ax = plt.gca()\n",
        "    ax.set_aspect('equal')"
      ],
      "id": "7d5fd850",
      "execution_count": null,
      "outputs": []
    },
    {
      "cell_type": "code",
      "metadata": {
        "id": "30612a64"
      },
      "source": [
        "mpl.rcParams['figure.figsize'] = (16, 16)\n",
        "\n",
        "colors = plt.rcParams['axes.prop_cycle'].by_key()['color']"
      ],
      "id": "30612a64",
      "execution_count": null,
      "outputs": []
    },
    {
      "cell_type": "code",
      "metadata": {
        "id": "2ac56ec4",
        "outputId": "45d293ec-937b-450b-f51d-96b2f947d5ae"
      },
      "source": [
        "\n",
        "plot_roc(\"Valid Baseline\", valid_labels, valid_predict, color=colors[0], linestyle='--')\n",
        "plt.legend(loc='lower right')"
      ],
      "id": "2ac56ec4",
      "execution_count": null,
      "outputs": [
        {
          "data": {
            "text/plain": [
              "<matplotlib.legend.Legend at 0x7f2f63c9e860>"
            ]
          },
          "execution_count": 40,
          "metadata": {},
          "output_type": "execute_result"
        },
        {
          "data": {
            "image/png": "[encoded data removed]",
            "text/plain": [
              "<Figure size 1152x1152 with 1 Axes>"
            ]
          },
          "metadata": {},
          "output_type": "display_data"
        }
      ]
    },
    {
      "cell_type": "code",
      "metadata": {
        "id": "5943c6b7",
        "outputId": "2ab71323-5858-4416-c9bc-cd3600a08a61"
      },
      "source": [
        "new_model = tf.keras.models.load_model('tf_lstmmodel.h5')\n",
        "new_model.summary()"
      ],
      "id": "5943c6b7",
      "execution_count": null,
      "outputs": [
        {
          "name": "stdout",
          "output_type": "stream",
          "text": [
            "Model: \"sequential\"\n",
            "_________________________________________________________________\n",
            "Layer (type)                 Output Shape              Param #   \n",
            "=================================================================\n",
            "embedding (Embedding)        (None, 100, 16)           800016    \n",
            "_________________________________________________________________\n",
            "dropout (Dropout)            (None, 100, 16)           0         \n",
            "_________________________________________________________________\n",
            "lstm (LSTM)                  (None, 100, 16)           2112      \n",
            "_________________________________________________________________\n",
            "flatten (Flatten)            (None, 1600)              0         \n",
            "_________________________________________________________________\n",
            "dense (Dense)                (None, 512)               819712    \n",
            "_________________________________________________________________\n",
            "dropout_1 (Dropout)          (None, 512)               0         \n",
            "_________________________________________________________________\n",
            "dense_1 (Dense)              (None, 8)                 4104      \n",
            "_________________________________________________________________\n",
            "dropout_2 (Dropout)          (None, 8)                 0         \n",
            "_________________________________________________________________\n",
            "dense_2 (Dense)              (None, 1)                 9         \n",
            "=================================================================\n",
            "Total params: 1,625,953\n",
            "Trainable params: 1,625,953\n",
            "Non-trainable params: 0\n",
            "_________________________________________________________________\n"
          ]
        }
      ]
    },
    {
      "cell_type": "code",
      "metadata": {
        "id": "5540c06b"
      },
      "source": [
        "with open('tokenizer.json') as json_file:\n",
        "    json_string = json.load(json_file)\n",
        "tokenizer1 = tf.keras.preprocessing.text.tokenizer_from_json(json_string)\n"
      ],
      "id": "5540c06b",
      "execution_count": null,
      "outputs": []
    },
    {
      "cell_type": "code",
      "metadata": {
        "id": "8bbeb4e3",
        "outputId": "5e5a612b-cc49-4aa5-c499-24fb6032dd9c"
      },
      "source": [
        "x_test  = np.array( tokenizer.texts_to_sequences(test_data['reviewText'].tolist()) )\n",
        "x_test = pad_sequences(x_test, padding='post', maxlen=100)"
      ],
      "id": "8bbeb4e3",
      "execution_count": null,
      "outputs": [
        {
          "name": "stderr",
          "output_type": "stream",
          "text": [
            "/home/thriveni/.local/lib/python3.6/site-packages/ipykernel_launcher.py:1: VisibleDeprecationWarning: Creating an ndarray from ragged nested sequences (which is a list-or-tuple of lists-or-tuples-or ndarrays with different lengths or shapes) is deprecated. If you meant to do this, you must specify 'dtype=object' when creating the ndarray\n",
            "  \"\"\"Entry point for launching an IPython kernel.\n"
          ]
        }
      ]
    },
    {
      "cell_type": "code",
      "metadata": {
        "id": "85f5beaa",
        "outputId": "b1d3fde2-52b6-47f0-830d-99aeab6bd587"
      },
      "source": [
        "print(\"Generate predictions for all samples\")\n",
        "predictions = new_model.predict(x_test)"
      ],
      "id": "85f5beaa",
      "execution_count": null,
      "outputs": [
        {
          "name": "stdout",
          "output_type": "stream",
          "text": [
            "Generate predictions for all samples\n"
          ]
        }
      ]
    },
    {
      "cell_type": "code",
      "metadata": {
        "id": "d2898dec",
        "outputId": "d587e22e-29a1-4812-bee3-03393a5e6d34"
      },
      "source": [
        "test_data['pred_sentiment']= predictions\n",
        "test_data['pred_sentiment'] = np.where((test_data.pred_sentiment >= 0.78),1,test_data.pred_sentiment)\n",
        "test_data['pred_sentiment'] = np.where((test_data.pred_sentiment < 0.78),0,test_data.pred_sentiment)"
      ],
      "id": "d2898dec",
      "execution_count": null,
      "outputs": [
        {
          "name": "stderr",
          "output_type": "stream",
          "text": [
            "/home/thriveni/.local/lib/python3.6/site-packages/ipykernel_launcher.py:1: SettingWithCopyWarning: \n",
            "A value is trying to be set on a copy of a slice from a DataFrame.\n",
            "Try using .loc[row_indexer,col_indexer] = value instead\n",
            "\n",
            "See the caveats in the documentation: https://pandas.pydata.org/pandas-docs/stable/user_guide/indexing.html#returning-a-view-versus-a-copy\n",
            "  \"\"\"Entry point for launching an IPython kernel.\n",
            "/home/thriveni/.local/lib/python3.6/site-packages/ipykernel_launcher.py:2: SettingWithCopyWarning: \n",
            "A value is trying to be set on a copy of a slice from a DataFrame.\n",
            "Try using .loc[row_indexer,col_indexer] = value instead\n",
            "\n",
            "See the caveats in the documentation: https://pandas.pydata.org/pandas-docs/stable/user_guide/indexing.html#returning-a-view-versus-a-copy\n",
            "  \n",
            "/home/thriveni/.local/lib/python3.6/site-packages/ipykernel_launcher.py:3: SettingWithCopyWarning: \n",
            "A value is trying to be set on a copy of a slice from a DataFrame.\n",
            "Try using .loc[row_indexer,col_indexer] = value instead\n",
            "\n",
            "See the caveats in the documentation: https://pandas.pydata.org/pandas-docs/stable/user_guide/indexing.html#returning-a-view-versus-a-copy\n",
            "  This is separate from the ipykernel package so we can avoid doing imports until\n"
          ]
        }
      ]
    },
    {
      "cell_type": "code",
      "metadata": {
        "id": "180e74b1",
        "outputId": "e7e3e62d-ced3-4ad5-cb40-afbf1974886c"
      },
      "source": [
        "labels = [0, 1]\n",
        "    \n",
        "print(classification_report(test_data['sentiment'].tolist(),test_data['pred_sentiment'].tolist(),labels=labels))"
      ],
      "id": "180e74b1",
      "execution_count": null,
      "outputs": [
        {
          "name": "stdout",
          "output_type": "stream",
          "text": [
            "              precision    recall  f1-score   support\n",
            "\n",
            "           0       0.51      0.80      0.63     15150\n",
            "           1       0.97      0.89      0.93    107352\n",
            "\n",
            "    accuracy                           0.88    122502\n",
            "   macro avg       0.74      0.85      0.78    122502\n",
            "weighted avg       0.91      0.88      0.89    122502\n",
            "\n"
          ]
        }
      ]
    },
    {
      "cell_type": "code",
      "metadata": {
        "id": "e7f56917"
      },
      "source": [
        ""
      ],
      "id": "e7f56917",
      "execution_count": null,
      "outputs": []
    }
  ]
}